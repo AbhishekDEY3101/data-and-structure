{
 "cells": [
  {
   "cell_type": "code",
   "execution_count": 1,
   "id": "5b33a1b4",
   "metadata": {},
   "outputs": [
    {
     "data": {
      "text/plain": [
       "[10, 12.5, 'boy', True]"
      ]
     },
     "execution_count": 1,
     "metadata": {},
     "output_type": "execute_result"
    }
   ],
   "source": [
    "sample_list=[10,12.5,\"boy\",True]\n",
    "sample_list"
   ]
  },
  {
   "cell_type": "code",
   "execution_count": 2,
   "id": "8c6f1cb7",
   "metadata": {},
   "outputs": [
    {
     "data": {
      "text/plain": [
       "list"
      ]
     },
     "execution_count": 2,
     "metadata": {},
     "output_type": "execute_result"
    }
   ],
   "source": [
    "type(sample_list)"
   ]
  },
  {
   "cell_type": "markdown",
   "id": "91d896cf",
   "metadata": {},
   "source": [
    "### list is hetrogenous multiple data type can be used \n",
    "### [] used for list \n",
    "### index list starts from 0,1,2,3\n"
   ]
  },
  {
   "cell_type": "code",
   "execution_count": 4,
   "id": "7b08674f",
   "metadata": {},
   "outputs": [
    {
     "data": {
      "text/plain": [
       "[10, 12.5, 'boizz', True]"
      ]
     },
     "execution_count": 4,
     "metadata": {},
     "output_type": "execute_result"
    }
   ],
   "source": [
    "sample_list[2]=\"boizz\"\n",
    "sample_list"
   ]
  },
  {
   "cell_type": "code",
   "execution_count": 5,
   "id": "e244e45e",
   "metadata": {},
   "outputs": [
    {
     "data": {
      "text/plain": [
       "(10, 12.5, 'boy', True)"
      ]
     },
     "execution_count": 5,
     "metadata": {},
     "output_type": "execute_result"
    }
   ],
   "source": [
    "sample_tuple=(10,12.5,\"boy\",True)\n",
    "sample_tuple"
   ]
  },
  {
   "cell_type": "code",
   "execution_count": 6,
   "id": "54420375",
   "metadata": {},
   "outputs": [
    {
     "data": {
      "text/plain": [
       "tuple"
      ]
     },
     "execution_count": 6,
     "metadata": {},
     "output_type": "execute_result"
    }
   ],
   "source": [
    "type(sample_tuple)"
   ]
  },
  {
   "cell_type": "code",
   "execution_count": 9,
   "id": "d07da5a0",
   "metadata": {},
   "outputs": [
    {
     "data": {
      "text/plain": [
       "12.5"
      ]
     },
     "execution_count": 9,
     "metadata": {},
     "output_type": "execute_result"
    }
   ],
   "source": [
    "sample_tuple[1]"
   ]
  },
  {
   "cell_type": "code",
   "execution_count": 10,
   "id": "d04fde89",
   "metadata": {},
   "outputs": [
    {
     "data": {
      "text/plain": [
       "10"
      ]
     },
     "execution_count": 10,
     "metadata": {},
     "output_type": "execute_result"
    }
   ],
   "source": [
    "sample_tuple[0]"
   ]
  },
  {
   "cell_type": "code",
   "execution_count": 15,
   "id": "f1e44afb",
   "metadata": {},
   "outputs": [
    {
     "ename": "TypeError",
     "evalue": "'tuple' object does not support item assignment",
     "output_type": "error",
     "traceback": [
      "\u001b[1;31m---------------------------------------------------------------------------\u001b[0m",
      "\u001b[1;31mTypeError\u001b[0m                                 Traceback (most recent call last)",
      "Input \u001b[1;32mIn [15]\u001b[0m, in \u001b[0;36m<cell line: 1>\u001b[1;34m()\u001b[0m\n\u001b[1;32m----> 1\u001b[0m sample_tuple[\u001b[38;5;241m1\u001b[39m]\u001b[38;5;241m=\u001b[39m\u001b[38;5;241m5.5\u001b[39m\n\u001b[0;32m      2\u001b[0m sample_tuple\n",
      "\u001b[1;31mTypeError\u001b[0m: 'tuple' object does not support item assignment"
     ]
    }
   ],
   "source": [
    "sample_tuple[1]=5.5\n",
    "sample_tuple"
   ]
  },
  {
   "cell_type": "code",
   "execution_count": 16,
   "id": "44cbb246",
   "metadata": {},
   "outputs": [],
   "source": [
    "tuple2=1.5,3,True,\"big boy\""
   ]
  },
  {
   "cell_type": "code",
   "execution_count": 17,
   "id": "da390ca9",
   "metadata": {},
   "outputs": [
    {
     "data": {
      "text/plain": [
       "(1.5, 3, True, 'big boy')"
      ]
     },
     "execution_count": 17,
     "metadata": {},
     "output_type": "execute_result"
    }
   ],
   "source": [
    "tuple2"
   ]
  },
  {
   "cell_type": "code",
   "execution_count": 18,
   "id": "ab057644",
   "metadata": {},
   "outputs": [
    {
     "data": {
      "text/plain": [
       "tuple"
      ]
     },
     "execution_count": 18,
     "metadata": {},
     "output_type": "execute_result"
    }
   ],
   "source": [
    "type(tuple2)"
   ]
  },
  {
   "cell_type": "markdown",
   "id": "05a022f3",
   "metadata": {},
   "source": [
    "### tuple works with parenthesis or no paranthesis and cant be changed later"
   ]
  },
  {
   "cell_type": "code",
   "execution_count": 19,
   "id": "5087faee",
   "metadata": {},
   "outputs": [
    {
     "data": {
      "text/plain": [
       "{1, 11, 5, 55, 66, 'apple', 'hello', 'world'}"
      ]
     },
     "execution_count": 19,
     "metadata": {},
     "output_type": "execute_result"
    }
   ],
   "source": [
    "sample_set={1,11,5,55,66,66,66,66,\"hello\",\"apple\",\"world\"}\n",
    "sample_set"
   ]
  },
  {
   "cell_type": "code",
   "execution_count": 20,
   "id": "18a0eb53",
   "metadata": {},
   "outputs": [
    {
     "ename": "TypeError",
     "evalue": "'set' object is not subscriptable",
     "output_type": "error",
     "traceback": [
      "\u001b[1;31m---------------------------------------------------------------------------\u001b[0m",
      "\u001b[1;31mTypeError\u001b[0m                                 Traceback (most recent call last)",
      "Input \u001b[1;32mIn [20]\u001b[0m, in \u001b[0;36m<cell line: 1>\u001b[1;34m()\u001b[0m\n\u001b[1;32m----> 1\u001b[0m \u001b[43msample_set\u001b[49m\u001b[43m[\u001b[49m\u001b[38;5;241;43m0\u001b[39;49m\u001b[43m]\u001b[49m\n",
      "\u001b[1;31mTypeError\u001b[0m: 'set' object is not subscriptable"
     ]
    }
   ],
   "source": [
    "sample_set[0]"
   ]
  },
  {
   "cell_type": "code",
   "execution_count": 21,
   "id": "3e0511b1",
   "metadata": {},
   "outputs": [
    {
     "ename": "TypeError",
     "evalue": "'set' object does not support item assignment",
     "output_type": "error",
     "traceback": [
      "\u001b[1;31m---------------------------------------------------------------------------\u001b[0m",
      "\u001b[1;31mTypeError\u001b[0m                                 Traceback (most recent call last)",
      "Input \u001b[1;32mIn [21]\u001b[0m, in \u001b[0;36m<cell line: 1>\u001b[1;34m()\u001b[0m\n\u001b[1;32m----> 1\u001b[0m sample_set[\u001b[38;5;241m5\u001b[39m]\u001b[38;5;241m=\u001b[39m\u001b[38;5;28;01mTrue\u001b[39;00m\n",
      "\u001b[1;31mTypeError\u001b[0m: 'set' object does not support item assignment"
     ]
    }
   ],
   "source": [
    "sample_set[5]=True\n"
   ]
  },
  {
   "cell_type": "code",
   "execution_count": 24,
   "id": "64ddaa9c",
   "metadata": {},
   "outputs": [
    {
     "data": {
      "text/plain": [
       "{1, 11, 5, 500, 55, 66, 'apple', 'hello', 'world'}"
      ]
     },
     "execution_count": 24,
     "metadata": {},
     "output_type": "execute_result"
    }
   ],
   "source": [
    "sample_set.add(500)\n",
    "sample_set"
   ]
  },
  {
   "cell_type": "code",
   "execution_count": 25,
   "id": "45983a50",
   "metadata": {},
   "outputs": [
    {
     "data": {
      "text/plain": [
       "{1, 11, 5, 55, 66, 'apple', 'hello', 'world'}"
      ]
     },
     "execution_count": 25,
     "metadata": {},
     "output_type": "execute_result"
    }
   ],
   "source": [
    "sample_set.remove(500)\n",
    "sample_set"
   ]
  },
  {
   "cell_type": "markdown",
   "id": "ecbcb416",
   "metadata": {},
   "source": [
    "### set uses{}\n",
    "### no duplication of data;66\n",
    "### it arranges data in ascending order or in dictionary order\n",
    "### it does not work on indexing\n",
    "### it is only mutable with only .add or .remove function(only one is allowed)"
   ]
  },
  {
   "cell_type": "code",
   "execution_count": 31,
   "id": "260a014a",
   "metadata": {},
   "outputs": [
    {
     "data": {
      "text/plain": [
       "{'a': 'bottom', 'b': 23, 4: 'bottom'}"
      ]
     },
     "execution_count": 31,
     "metadata": {},
     "output_type": "execute_result"
    }
   ],
   "source": [
    "sample_dic={\"a\":\"bottom\",\"b\":\"bottom\",4:\"hi\",\"b\":23,4:\"bottom\"}\n",
    "sample_dic"
   ]
  },
  {
   "cell_type": "code",
   "execution_count": 32,
   "id": "f40abcac",
   "metadata": {},
   "outputs": [
    {
     "data": {
      "text/plain": [
       "'bottom'"
      ]
     },
     "execution_count": 32,
     "metadata": {},
     "output_type": "execute_result"
    }
   ],
   "source": [
    "sample_dic[\"a\"]"
   ]
  },
  {
   "cell_type": "code",
   "execution_count": 36,
   "id": "c20f3d61",
   "metadata": {},
   "outputs": [
    {
     "data": {
      "text/plain": [
       "{'a': 'bottom', 'b': 'beta', 4: 'bottom'}"
      ]
     },
     "execution_count": 36,
     "metadata": {},
     "output_type": "execute_result"
    }
   ],
   "source": [
    "sample_dic[\"b\"]=\"beta\"\n",
    "sample_dic"
   ]
  },
  {
   "cell_type": "markdown",
   "id": "4c0fa685",
   "metadata": {},
   "source": [
    "### dictionary has key-value pair data structure\n",
    "### key is unique and values can be duplicate\n",
    "### can retrive the value using key only no indexing\n",
    "### can be changed using key"
   ]
  },
  {
   "cell_type": "code",
   "execution_count": null,
   "id": "82e9ccf1",
   "metadata": {},
   "outputs": [],
   "source": []
  }
 ],
 "metadata": {
  "kernelspec": {
   "display_name": "Python 3 (ipykernel)",
   "language": "python",
   "name": "python3"
  },
  "language_info": {
   "codemirror_mode": {
    "name": "ipython",
    "version": 3
   },
   "file_extension": ".py",
   "mimetype": "text/x-python",
   "name": "python",
   "nbconvert_exporter": "python",
   "pygments_lexer": "ipython3",
   "version": "3.9.12"
  }
 },
 "nbformat": 4,
 "nbformat_minor": 5
}
